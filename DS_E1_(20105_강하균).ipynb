{
  "nbformat": 4,
  "nbformat_minor": 0,
  "metadata": {
    "colab": {
      "name": "DS_E1_(20105 강하균).ipynb",
      "provenance": [],
      "collapsed_sections": [],
      "toc_visible": true,
      "include_colab_link": true
    },
    "kernelspec": {
      "name": "python3",
      "display_name": "Python 3"
    },
    "language_info": {
      "name": "python"
    }
  },
  "cells": [
    {
      "cell_type": "markdown",
      "metadata": {
        "id": "view-in-github",
        "colab_type": "text"
      },
      "source": [
        "<a href=\"https://colab.research.google.com/github/Ligrante/DataAnalysis/blob/main/DS_E1_(20105_%EA%B0%95%ED%95%98%EA%B7%A0).ipynb\" target=\"_parent\"><img src=\"https://colab.research.google.com/assets/colab-badge.svg\" alt=\"Open In Colab\"/></a>"
      ]
    },
    {
      "cell_type": "markdown",
      "source": [
        "-1주차-"
      ],
      "metadata": {
        "id": "b7p-5D5xjsgt"
      }
    },
    {
      "cell_type": "markdown",
      "source": [
        "### **[01] Data Structure**"
      ],
      "metadata": {
        "id": "I4maZmSwZwXP"
      }
    },
    {
      "cell_type": "markdown",
      "metadata": {
        "id": "iotc5hwSJatp"
      },
      "source": [
        "#### **What is a DS?**\n",
        "\n",
        "A **data structure(DS)** is a way of organizing data in computer so that it can be used <u>effectively</u>. Data Structure is a systematic way to store and organize data so that it can be used efficiently. **For example Arrays, Linked List, Stack, Queue, Tree etc. are data structures**. Data structure is <u>associated with algorithms</u> that allows programmers to handle data in efficient ways and enhance the performance of the application.\n",
        "\n",
        "---\n",
        "\n",
        "**자료구조(DS, data structure)**는 컴퓨터 과학에서 효율적인 접근 및 수정을 가능케 하는 자료의 조직, 관리, 저장을 의미한다. 더 정확히 말해, 자료 구조는 데이터 값의 모임, 또 데이터 간의 관계, 그리고 데이터에 적용할 수 있는 함수나 명령을 의미한다. 신중히 선택한 자료구조는 보다 효율적인 알고리즘을 사용할 수 있게 한다. [ref. (wiki)](https://ko.wikipedia.org/wiki/%EC%9E%90%EB%A3%8C_%EA%B5%AC%EC%A1%B0)\n",
        "\n",
        "<br>\n",
        "<U>Topics</U> \n",
        "\n",
        "&nbsp;&nbsp;&nbsp;&nbsp;&nbsp;&nbsp;&nbsp;&nbsp;&nbsp;&nbsp;&nbsp;&nbsp;&nbsp;&nbsp; <img src=\"https://imgur.com/6OghyA1.png\" width=600px></center>"
      ]
    },
    {
      "cell_type": "markdown",
      "metadata": {
        "id": "igvkDGQNIoTL"
      },
      "source": [
        "* **Types of Data Structures in Python**\n",
        "\n",
        "&nbsp;&nbsp;&nbsp;&nbsp;&nbsp;&nbsp;&nbsp;&nbsp; : &nbsp;Built-in Data Structures (List, Tuple, Dictionary, Set)  \n",
        "\n",
        "&nbsp;&nbsp;&nbsp;&nbsp;&nbsp;&nbsp;&nbsp;&nbsp; : &nbsp;Python은 데이터를 저장하고 액세스할 수 있는 일부 데이터 구조를 암시적으로 지원\n",
        "\n",
        "&nbsp;&nbsp;&nbsp;&nbsp;&nbsp;&nbsp;&nbsp;&nbsp; : &nbsp;[ref. (docs.python.org/datastructures)](https://docs.python.org/ko/3/tutorial/datastructures.html)\n",
        "\n",
        "<br>\n",
        "<center><img src=\"https://imgur.com/nzexZ4t.png\" width=700px></center>\n",
        "\n"
      ]
    },
    {
      "cell_type": "markdown",
      "metadata": {
        "id": "GGzLKVZsLGac"
      },
      "source": [
        "> **Lists** are used to store data of <u>different data types</u> in a sequential manner. There are addresses assigned to every element of the list, <u>which is called as Index</u>. (The index value starts from 0 and goes on until the last element called the positive index. There is also negative indexing which starts from -1 enabling you to access elements from the last to first.) \n",
        "\n",
        "> 리스트는 다양한 데이터 유형의 데이터를 순차적으로 저장하는 데 사용된다. 인덱스라고 하는 목록의 모든 요소에 할당된 주소가 있다. (인덱스 값은 0에서 시작하여 양수 인덱스 라는 마지막 요소까지 계속된다 . 또한 -1부터 시작하는 음수 인덱싱을 통해 마지막 요소부터 첫 번째 요소까지 요소에 액세스할 수 있다.) "
      ]
    },
    {
      "cell_type": "code",
      "source": [
        "#비어있는 리스트 a 선언\n",
        "\n",
        "\n",
        "#각 원소가 None으로 초기화된 크기가 10인 리스트 생성\n",
        "\n",
        "\n",
        "#크기가 4이고, 4개의 정수로 초기화된 리스트 -> [40, 10, 70, 60]\n",
        "\n",
        "\n",
        "print()"
      ],
      "metadata": {
        "colab": {
          "base_uri": "https://localhost:8080/"
        },
        "id": "Dw0ByzUNmx0E",
        "outputId": "d0f0d325-2631-420b-a30e-0c5221c7819d"
      },
      "execution_count": null,
      "outputs": [
        {
          "output_type": "stream",
          "name": "stdout",
          "text": [
            "40 60\n"
          ]
        }
      ]
    },
    {
      "cell_type": "code",
      "source": [
        "#리스트 c의 맨뒤에 90 추가 -> [40, 10, 70, 60, (90)]\n",
        "c.\n",
        "\n",
        "#리스트 c의 맨뒤에 'A' 추가 -> [40, 10, 70, 60, 90, ('A')]\n",
        "c.\n",
        "\n",
        "#리스트 c의 두번째 자리에 30 추가 -> [40, (30), 10, 70, 60, 90, 'A']\n",
        "c.\n",
        "\n",
        "#리스트 c의 마지막 항목을 제거 -> [40, 30, 10, 70, 60, 90, ('A')]\n",
        "c.\n",
        "\n",
        "#리스트 c의 첫 항목을 제거 -> [(40), 30, 10, 70, 60, 90]\n",
        "c.\n",
        "\n",
        "#리스트 c의 70 값 제거 -> [30, 10, (70), 60, 90]\n",
        "c.\n",
        "\n",
        "print(c)"
      ],
      "metadata": {
        "colab": {
          "base_uri": "https://localhost:8080/"
        },
        "id": "Y3XMtnPbm_AY",
        "outputId": "828e349d-07d4-4352-aa3f-c43f17c28d25"
      },
      "execution_count": null,
      "outputs": [
        {
          "output_type": "stream",
          "name": "stdout",
          "text": [
            "[30, 10, 60, 90]\n"
          ]
        }
      ]
    },
    {
      "cell_type": "code",
      "source": [
        "#리스트 c의 60 값 제거 -> (search) -> (delete)\n",
        "\n"
      ],
      "metadata": {
        "id": "v8VCwLT-Oo-g"
      },
      "execution_count": null,
      "outputs": []
    },
    {
      "cell_type": "code",
      "source": [
        "\n"
      ],
      "metadata": {
        "id": "35g_5EvERTk_"
      },
      "execution_count": null,
      "outputs": []
    },
    {
      "cell_type": "code",
      "source": [
        "\n"
      ],
      "metadata": {
        "id": "1C3_pTXBRu2d"
      },
      "execution_count": null,
      "outputs": []
    },
    {
      "cell_type": "markdown",
      "metadata": {
        "id": "gl9ytJZamZ6B"
      },
      "source": [
        "> **Dictionaries** are used to store key-value pairs.\n",
        "\n",
        "```python\n",
        "#empty dictionary\n",
        "my_dict = {} \n",
        "\n",
        "#dictionary with elements\n",
        "my_dict = {'First': 'Python', 'Second': 'Java'} \n",
        "\n",
        "#access elements using keys\n",
        "my_dict['First'] \n",
        "\n",
        "#adding key-value pair\n",
        "my_dict['Third'] = 'Ruby'\n",
        "\n",
        "#pop element\n",
        "my_dict.pop('Third') \n",
        "```"
      ]
    },
    {
      "cell_type": "markdown",
      "metadata": {
        "id": "cGzJwZq2n-G3"
      },
      "source": [
        "> **Tuples** are the same as lists are with the exception that the data once entered into the tuple cannot be changed no matter what.\n",
        "\n",
        "```python\n",
        "#create tuple\n",
        "my_tuple = (1, 2, 3) \n",
        "\n",
        "#access elements\n",
        "for x in my_tuple:\n",
        "    print(x)\n",
        "\n",
        "#add elements\n",
        "my_tuple = my_tuple + (4, 5, 6)\n",
        "\n",
        "#delete tuple\n",
        "del my_tuple\n",
        "```"
      ]
    },
    {
      "cell_type": "markdown",
      "metadata": {
        "id": "qIRjfPmZn-0F"
      },
      "source": [
        "> **Sets** are a collection of unordered elements that are unique. Meaning that even if the data is repeated more than one time, it would be entered into the set only once. Set objects also support mathematical operations like union, intersection, difference, and symmetric difference.\n",
        "\n",
        "```python\n",
        "#create set\n",
        "my_set = {1, 2, 3, 4, 5, 5, 5} \n",
        "\n",
        "#add element\n",
        "my_set.add(4) \n",
        "my_set.update([6, 7, 8])\n",
        "\n",
        "#delete element\n",
        "my_set.remove(4)\n",
        "my_set.discard(4)\n",
        "\n",
        "#operations in sets\n",
        "my_set2 = {3, 4, 5, 6}\n",
        "my_set.union(my_set2)\n",
        "my_set.intersection(my_set2)\n",
        "my_set.difference(my_set2)\n",
        "```"
      ]
    },
    {
      "cell_type": "markdown",
      "source": [
        "&nbsp;&nbsp;&nbsp;&nbsp;&nbsp;  **Note)** **Class**\n",
        "\n",
        "A **class** is a user-defined blueprint or prototype from which **objects** are created. Classes provide a means of bundling <u>data</u> and <u>functionality</u> together. Creating a new class creates a new type of object, allowing new **instances** of that type to be made. Each class instance can have attributes attached to it for maintaining its state. Class instances can also have methods (defined by their class) for modifying their state.\n",
        "\n",
        "클래스는 객체가 생성되는 사용자 정의 청사진 또는 프로토타입이다. 클래스는 데이터와 기능을 함께 묶는 수단을 제공한다. 새 클래스를 생성하면 새 유형의 객체가 생성되어 해당 유형의 새 인스턴스를 만들 수 있다. 각 클래스 인스턴스에는 상태를 유지하기 위해 연결된 속성이 있을 수 있다. 클래스 인스턴스는 상태를 수정하기 위한 메소드(클래스에 의해 정의됨)를 가질 수도 있다.\n",
        "\n",
        "<br>\n",
        "<center><img src=\"https://imgur.com/Bb3pNJl.png\" width=600px></center>"
      ],
      "metadata": {
        "id": "i0Jcf-7nLOyv"
      }
    },
    {
      "cell_type": "markdown",
      "source": [
        "class in (mathematical || scientific) &nbsp;→&nbsp; naming, data fields, object constructor, instance variable, method * 3"
      ],
      "metadata": {
        "id": "WPrYUqkfquHB"
      }
    },
    {
      "cell_type": "code",
      "source": [
        "class _______:\n",
        "\n",
        "\n",
        "\n",
        "\n",
        "    "
      ],
      "metadata": {
        "id": "YT-qdwCDsPJy"
      },
      "execution_count": null,
      "outputs": []
    },
    {
      "cell_type": "markdown",
      "source": [
        "#### **ADT(Abstract Data Type)**\n",
        "\n",
        "An ADT is a mathematical model of a data structure that <u>specifies ①the type of data stored, ②the operations supported on them, and the types of parameters of the operations</u>.  An ADT specifies what each operation does, but not how it does it. A useful first step in deciding what data structure to use in a program is to specify an ADT for the program.\n",
        "\n",
        "데이터 구조를 프로그램으로 구현할 때에는 데이터를 저장할 구조를 생성한 이후, 실제 저장되는 데이터를 처리하기 위한 연산을 정의해야 하는데, **추상 자료형(ADT, Abstract Data Type)**은 이러한 관계를 정형화시킨 개념이다. 데이터 구조의 선택 문제는 대개 추상 자료형의 선택으로부터 시작하는 경우가 많고, 효과적으로 설계된 데이터 구조는 실행시간 혹은 메모리 용량과 같은 자원을 최소한으로 사용하면서 연산을 수행하도록 해준다. \n",
        "\n",
        "<center><img src=\"https://imgur.com/ByXtLp9.png\" width=800px></center>"
      ],
      "metadata": {
        "id": "19pZVMHD0h-z"
      }
    },
    {
      "cell_type": "markdown",
      "source": [
        "* **Types of Data Structure - 2**\n",
        "\n",
        "<br>\n",
        "<center><img src=\"https://imgur.com/kXDLkeH.png\" width=500px></center>"
      ],
      "metadata": {
        "id": "KUbWfvsDd60x"
      }
    },
    {
      "cell_type": "code",
      "source": [
        "#ex) Binary Tree Traversals(Inorder, Preorder and Postorder)\n",
        "class Node:\n",
        "    def __init__(self, name, left=None, right=None):\n",
        "        self.name = name\n",
        "        self.left = left\n",
        "        self.right = right\n",
        "\n",
        "def map():\n",
        "    n1 = Node('H'); n2 = Node('F'); n3 = Node('S'); n4 = Node('U'); n5 = Node('E')\n",
        "    n6 = Node('Z'); n7 = Node('K'); n8 = Node('N'); n9 = Node('A'); n10 = Node('Y'); n11 = Node('T')\n",
        "\n",
        "    n1.left = n2; n1.right = n3; n2.left = n4; n2.right = n5; n3.left = n6; n3.right = n7\n",
        "    n4.left = n8; n5.left = n9; n7.right = n10; n9.right = n11\n",
        "\n",
        "    return n1\n",
        "\n",
        "def A_course(n):\n",
        "    if n != None:\n",
        "        print(n.name, '-> ', end='')\n",
        "        A_course(n.left)\n",
        "        A_course(n.right)\n",
        "\n",
        "def B_course(n):\n",
        "    if n != None:\n",
        "        B_course(n.left)\n",
        "        print(n.name, '-> ', end='')\n",
        "        B_course(n.right)\n",
        "\n",
        "def C_course(n):\n",
        "    if n != None:\n",
        "        C_course(n.left)\n",
        "        C_course(n.right)\n",
        "        print(n.name, '-> ', end='')\n",
        "\n",
        "start = map()\n",
        "\n",
        "print('A course : ', end='')\n",
        "A_course(start)\n",
        "\n",
        "print('\\nB course : ', end='')\n",
        "B_course(start)\n",
        "\n",
        "print('\\nC course : ', end='')\n",
        "A_course(start)"
      ],
      "metadata": {
        "id": "kFkoL1Jd5lAD"
      },
      "execution_count": null,
      "outputs": []
    },
    {
      "cell_type": "markdown",
      "metadata": {
        "id": "l8MlaZgrrOxt"
      },
      "source": [
        "실습 파일 공유 : leeseonkyu1003@gmail.com\n",
        "\n",
        "※ 화면 오른쪽 상단의 공유 버튼을 눌러주세요.\n",
        "\n",
        "※ 공유 전 파일의 이름을 학번 이름 으로 꼭 변경하세요. 예)DS_E1(학번, 이름)"
      ]
    }
  ]
}